{
 "cells": [
  {
   "cell_type": "code",
   "execution_count": 2,
   "metadata": {},
   "outputs": [],
   "source": [
    "import re\n",
    "import nltk\n",
    "import numpy as np"
   ]
  },
  {
   "cell_type": "code",
   "execution_count": 3,
   "metadata": {},
   "outputs": [],
   "source": [
    "sent= \"\"\"Good evening. In my first Inaugural Address, I committed this country to the tireless task of\n",
    "combating climate change and protecting this planet for future generations.\n",
    "Two weeks ago, in Paris, I said before the world that we needed a strong global agreement to\n",
    "accomplish this goal -- an enduring agreement that reduces global carbon pollution and sets\n",
    "the world on a course to a low-carbon future.\n",
    "A few hours ago, we succeeded. We came together around the strong agreement the world\n",
    "needed. We met the moment.\n",
    "I want to commend President Hollande and Secretary General Ban for their leadership and for\n",
    "hosting such a successful summit, and French Foreign Minister Laurent Fabius for presiding\n",
    "with patience and resolve. And I want to give a special thanks to Secretary John Kerry, my\n",
    "Senior Advisor Brian Deese, our chief negotiator Todd Stern, and everyone on their teams for\n",
    "their outstanding work and for making America proud.\n",
    "I also want to thank the people of nearly 200 nations -- large and small, developed and\n",
    "developing -- for working together to confront a threat to the people of all nations. Together,\n",
    "we’ve shown what’s possible when the world stands as one.Today, the American people can be proud -- because this historic agreement is a tribute to\n",
    "American leadership. Over the past seven years, we’ve transformed the United States into\n",
    "the global leader in fighting climate change. In 2009, we helped salvage a chaotic\n",
    "Copenhagen Summit and established the principle that all countries had a role to play in\n",
    "combating climate change.\n",
    "We then led by example, with historic investments in growing industries like wind and solar,\n",
    "creating a new and steady stream of middle-class jobs. We’ve set the first-ever nationwide\n",
    "standards to limit the amount of carbon pollution power plants can dump into the air our\n",
    "children breathe. From Alaska to the Gulf Coast to the Great Plains, we’ve partnered with\n",
    "local leaders who are working to help their communities protect themselves from some of the\n",
    "most immediate impacts of a changing climate.\n",
    "Now, skeptics said these actions would kill jobs. Instead, we’ve seen the longest streak of\n",
    "private-sector job creation in our history. We’ve driven our economic output to all-time highs\n",
    "while driving our carbon pollution down to its lowest level in nearly two decades. And then,\n",
    "with our historic joint announcement with China last year, we showed it was possible to bridge\n",
    "the old divides between developed and developing nations that had stymied global progress\n",
    "for so long. That accomplishment encouraged dozens and dozens of other nations to set their\n",
    "own ambitious climate targets. And that was the foundation for success in Paris. Because no\n",
    "nation, not even one as powerful as ours, can solve this challenge alone. And no country, no\n",
    "matter how small, can sit on the sidelines. All of us had to solve it together.\n",
    "Now, no agreement is perfect, including this one. Negotiations that involve nearly 200 nations\n",
    "are always challenging. Even if all the initial targets set in Paris are met, we’ll only be part of\n",
    "the way there when it comes to reducing carbon from the atmosphere. So we cannot be\n",
    "complacent because of today’s agreement. The problem is not solved because of this accord.\n",
    "But make no mistake, the Paris agreement establishes the enduring framework the world\n",
    "needs to solve the climate crisis. It creates the mechanism, the architecture, for us to\n",
    "continually tackle this problem in an effective way.\n",
    "This agreement is ambitious, with every nation setting and committing to their own specific\n",
    "targets, even as we take into account differences among nations. We’ll have a strong system\n",
    "of transparency, including periodic reviews and independent assessments, to help hold every\n",
    "country accountable for meeting its commitments. As technology advances, this agreement\n",
    "allows progress to pave the way for even more ambitious targets over time. And we have\n",
    "secured a broader commitment to support the most vulnerable countries as they pursue\n",
    "cleaner economic growth.\n",
    "In short, this agreement will mean less of the carbon pollution that threatens our planet, and\n",
    "more of the jobs and economic growth driven by low-carbon investment. Full implementation\n",
    "of this agreement will help delay or avoid some of the worst consequences of climate change,\n",
    "and will pave the way for even more progress, in successive stages, over the coming years.\n",
    "Moreover, this agreement sends a powerful signal that the world is firmly committed to a lowcarbon\n",
    "future. And that has the potential to unleash investment and innovation in clean\n",
    "energy at a scale we have never seen before. The targets we’ve set are bold. And by\n",
    "empowering businesses, scientists, engineers, workers, and the private sector -- investors --\n",
    "to work together, this agreement represents the best chance we’ve had to save the one planet\n",
    "that we’ve got.\n",
    "So I believe this moment can be a turning point for the world. We’ve shown that the world\n",
    "has both the will and the ability to take on this challenge. It won’t be easy. Progress won’t\n",
    "always come quick. We cannot be complacent. While our generation will see some of the\n",
    "benefits of building a clean energy economy -- jobs created and money saved -- we may not\n",
    "live to see the full realization of our achievement. But that’s okay. What matters is that\n",
    "today we can be more confident that this planet is going to be in better shape for the next\n",
    "generation.\n",
    "And that’s what I care about. I imagine taking my grandkids, if I’m lucky enough to have\n",
    "some, to the park someday, and holding their hands, and hearing their laughter, and watching\n",
    "a quiet sunset, all the while knowing that our work today prevented an alternate future that\n",
    "could have been grim; that our work, here and now, gave future generations cleaner air, and\n",
    "cleaner water, and a more sustainable planet. And what could be more important than that?\n",
    "Today, thanks to strong, principled, American leadership, that’s the world that we’ll leave to\n",
    "our children -- a world that is safer and more secure, more prosperous, and more free. And\n",
    "that is our most important mission in our short time here on this Earth. \"\"\""
   ]
  },
  {
   "cell_type": "markdown",
   "metadata": {},
   "source": [
    "# Stentences tokenizing"
   ]
  },
  {
   "cell_type": "code",
   "execution_count": 4,
   "metadata": {},
   "outputs": [],
   "source": [
    "sentences= nltk.sent_tokenize(sent)"
   ]
  },
  {
   "cell_type": "code",
   "execution_count": 5,
   "metadata": {},
   "outputs": [],
   "source": [
    "#sentences"
   ]
  },
  {
   "cell_type": "markdown",
   "metadata": {},
   "source": [
    "# word tokenizing"
   ]
  },
  {
   "cell_type": "code",
   "execution_count": 6,
   "metadata": {},
   "outputs": [],
   "source": [
    "words=nltk.word_tokenize(sent)"
   ]
  },
  {
   "cell_type": "code",
   "execution_count": 7,
   "metadata": {},
   "outputs": [],
   "source": [
    "#words"
   ]
  },
  {
   "cell_type": "markdown",
   "metadata": {},
   "source": [
    "# Stemming"
   ]
  },
  {
   "cell_type": "code",
   "execution_count": 8,
   "metadata": {},
   "outputs": [],
   "source": [
    "#from nltk import PorterStemmer"
   ]
  },
  {
   "cell_type": "markdown",
   "metadata": {},
   "source": [
    "stemmer=PorterStemmer()\n",
    "for i in range(len(sentences)):\n",
    "    words= nltk.word_tokenize(sentences[i])\n",
    "    new_words=[stemmer.stem(word) for word in words]\n",
    "    sentences[i]=' '.join(new_words)"
   ]
  },
  {
   "cell_type": "code",
   "execution_count": 9,
   "metadata": {},
   "outputs": [],
   "source": [
    "#sentences"
   ]
  },
  {
   "cell_type": "markdown",
   "metadata": {},
   "source": [
    "# Lemmatizer"
   ]
  },
  {
   "cell_type": "code",
   "execution_count": 10,
   "metadata": {},
   "outputs": [],
   "source": [
    "#from nltk.stem import WordNetLemmatizer"
   ]
  },
  {
   "cell_type": "markdown",
   "metadata": {},
   "source": [
    "lemmatizer=WordNetLemmatizer()\n",
    "for i in range(len(sentences)):\n",
    "    words= nltk.word_tokenize(sentences[i])\n",
    "    new_words=[lemmatizer.lemmatize(word) for word in words]\n",
    "    sentences[i]=' '.join(new_words)"
   ]
  },
  {
   "cell_type": "code",
   "execution_count": 11,
   "metadata": {},
   "outputs": [],
   "source": [
    "#sentences"
   ]
  },
  {
   "cell_type": "markdown",
   "metadata": {},
   "source": [
    "# Stop word removal"
   ]
  },
  {
   "cell_type": "markdown",
   "metadata": {},
   "source": [
    "nltk.download('stopwords')\n",
    "from nltk.corpus import stopwords"
   ]
  },
  {
   "cell_type": "markdown",
   "metadata": {},
   "source": [
    "for i in range(len(sentences)):\n",
    "    words= nltk.word_tokenize(sentences[i])\n",
    "    new_words=[word for word in words if word not in stopwords.words('english')]\n",
    "    sentences[i]=' '.join(new_words)"
   ]
  },
  {
   "cell_type": "code",
   "execution_count": 12,
   "metadata": {},
   "outputs": [],
   "source": [
    "#sentences"
   ]
  },
  {
   "cell_type": "markdown",
   "metadata": {},
   "source": [
    "# part of speech tagging"
   ]
  },
  {
   "cell_type": "code",
   "execution_count": 13,
   "metadata": {},
   "outputs": [],
   "source": [
    "tagged_words=nltk.pos_tag(words)\n",
    "word_tags=[]\n",
    "for tw in tagged_words:\n",
    "    word_tags.append(tw[0]+'_'+tw[1])\n",
    "    "
   ]
  },
  {
   "cell_type": "code",
   "execution_count": 14,
   "metadata": {},
   "outputs": [],
   "source": [
    "#tagged_words\n",
    "#word_tags\n",
    "#tagged_paragraph=' '.join(word_tags)"
   ]
  },
  {
   "cell_type": "markdown",
   "metadata": {},
   "source": [
    "# Name entity recognition "
   ]
  },
  {
   "cell_type": "code",
   "execution_count": 15,
   "metadata": {},
   "outputs": [],
   "source": [
    "corp=\"NASA is led by Administrator Jim Bridenstine, NASA's 13th administrator. Before joining NASA, Bridenstine served in the U.S. Congress, representing Oklahoma’s First Congressional District, serving on the Armed Services Committee and the Science, Space and Technology Committee.\"\n",
    "\n",
    "corp_words=nltk.word_tokenize(sent)\n",
    "tagged_words=nltk.pos_tag(corp_words)\n",
    "word_tags=[]\n",
    "for tw in tagged_words:\n",
    "    word_tags.append(tw[0]+'_'+tw[1])"
   ]
  },
  {
   "cell_type": "code",
   "execution_count": 17,
   "metadata": {},
   "outputs": [],
   "source": [
    "namedEnt=nltk.ne_chunk(tagged_words)\n",
    "namedEnt.draw()"
   ]
  },
  {
   "cell_type": "code",
   "execution_count": null,
   "metadata": {},
   "outputs": [],
   "source": []
  }
 ],
 "metadata": {
  "kernelspec": {
   "display_name": "Python 3",
   "language": "python",
   "name": "python3"
  },
  "language_info": {
   "codemirror_mode": {
    "name": "ipython",
    "version": 3
   },
   "file_extension": ".py",
   "mimetype": "text/x-python",
   "name": "python",
   "nbconvert_exporter": "python",
   "pygments_lexer": "ipython3",
   "version": "3.6.4"
  }
 },
 "nbformat": 4,
 "nbformat_minor": 2
}
